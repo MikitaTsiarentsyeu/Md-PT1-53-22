{
 "cells": [
  {
   "cell_type": "code",
   "execution_count": 4,
   "metadata": {},
   "outputs": [
    {
     "name": "stdout",
     "output_type": "stream",
     "text": [
      "test print from the first cell\n",
      "16.0\n"
     ]
    }
   ],
   "source": [
    "5+6\n",
    "print(\"test print from the first cell\")\n",
    "\n",
    "import math\n",
    "print(math.sqrt(256))"
   ]
  },
  {
   "cell_type": "markdown",
   "metadata": {},
   "source": [
    "Some plain text"
   ]
  },
  {
   "cell_type": "code",
   "execution_count": null,
   "metadata": {},
   "outputs": [],
   "source": [
    "import numpy\n",
    "import matplotlib.pyplot as plt\n",
    "\n",
    "x = numpy.linspace(start=-10, stop=10, num=10)\n",
    "y = numpy.sin(x)\n",
    "\n",
    "plt.plot(x, y)\n",
    "plt.show()"
   ]
  }
 ],
 "metadata": {
  "kernelspec": {
   "display_name": "Python 3.8.3 64-bit",
   "language": "python",
   "name": "python3"
  },
  "language_info": {
   "codemirror_mode": {
    "name": "ipython",
    "version": 3
   },
   "file_extension": ".py",
   "mimetype": "text/x-python",
   "name": "python",
   "nbconvert_exporter": "python",
   "pygments_lexer": "ipython3",
   "version": "3.8.3"
  },
  "orig_nbformat": 4,
  "vscode": {
   "interpreter": {
    "hash": "59481dfce4cb1c6f46bb3dec35a875d60e384983a07ae459b58a679bbac543dd"
   }
  }
 },
 "nbformat": 4,
 "nbformat_minor": 2
}
